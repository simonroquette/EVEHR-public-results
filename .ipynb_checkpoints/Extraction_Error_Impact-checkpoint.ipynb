{
 "cells": [
  {
   "cell_type": "code",
   "execution_count": null,
   "metadata": {},
   "outputs": [],
   "source": [
    "import warnings\n",
    "warnings.filterwarnings('ignore')\n",
    "\n",
    "from ipywidgets import interact, interactive, fixed, interact_manual\n",
    "import ipywidgets as widgets\n",
    "\n",
    "import matplotlib.pyplot as plt\n",
    "from matplotlib.pyplot import cm\n",
    "import matplotlib\n",
    "\n",
    "import pandas as pd\n",
    "import numpy as np\n",
    "import itertools"
   ]
  },
  {
   "cell_type": "code",
   "execution_count": null,
   "metadata": {},
   "outputs": [],
   "source": [
    "def plot_noise_effect(noise_compositions = [[\"Dr\"], [\"Ar\"], [\"SRr\"], [\"SPr\"]], \n",
    "                      metric=\"accuracy\", task=\"LOS\",\n",
    "                       savepath=\"\", plot_minmax=True,):\n",
    "\n",
    "    matplotlib.rcParams.update({'font.size': 15})\n",
    "\n",
    "    all_noises = ['Dr', 'Ar', 'SRr', 'SPr']\n",
    "\n",
    "    fig = plt.figure(figsize=(10, 8))\n",
    "\n",
    "    colors=cm.rainbow(np.linspace(0,1,len(noise_compositions)))\n",
    "\n",
    "    for color, noise_composition in zip(colors, noise_compositions):\n",
    "    #noise_composition = [\"Dr\", \"SRr\"] # ['Dr', 'Ar', 'SRr', 'SPr']\n",
    "        other_noises = [noise for noise in all_noises if not noise in noise_composition]\n",
    "\n",
    "        results_noise = results[(results.Model.str.contains(\"noise\")) & (results.Task == task)]\n",
    "        noise_values = np.unique(results_noise[noise_composition].values)\n",
    "\n",
    "        split_results = [results_noise[((results_noise[noise_composition] == value).all(axis = 1)) &\n",
    "                                      ((results_noise[other_noises] == 0).all(axis = 1))] \n",
    "                         for value in noise_values]\n",
    "        split_results = [result[metric].values for result in split_results]\n",
    "\n",
    "        #plt.boxplot(split_results, positions = noise_values)\n",
    "        mins = [min(x) for x in split_results]\n",
    "        maxs = [max(x) for x in split_results]\n",
    "        means = [np.mean(x) for x in split_results]\n",
    "        \n",
    "        label = \"+\".join(noise_composition)\n",
    "        plt.plot(noise_values, means, lw=2, color=color, label=label if not plot_minmax else \"\")\n",
    "        if plot_minmax:\n",
    "            plt.fill_between(noise_values, mins, maxs, facecolor=color, alpha=0.2, \n",
    "                             label=label)  \n",
    "\n",
    "    for i, noise_value in enumerate(noise_values):\n",
    "        plt.axvline(x=noise_value, linestyle=\"--\", color= \"grey\", label=\"sample\" if i==0 else \"\")\n",
    "    #plt.title(\"Extraction Error's Impact on %s for %s prediction\" % (metric, task))\n",
    "    plt.ylabel(\"Score: \" + metric)\n",
    "    plt.xlabel(\"Error rate\")\n",
    "    plt.legend(loc=\"center left\")\n",
    "    fig.patch.set_facecolor('white')\n",
    "    #if savepath:\n",
    "    #    plt.savefig(savepath, format='png', dpi=300)\n",
    "    plt.show()\n",
    "    \n",
    "all_noises = [['Dr', 'Ar', 'SRr', 'SPr']]*4\n",
    "all_noises = [list(np.unique(comb)) for comb in itertools.product(*all_noises)]\n",
    "all_noises = sorted(np.unique(all_noises), key=lambda x: len(x))\n",
    "noise_compositions = widgets.SelectMultiple(\n",
    "                                        options=all_noises,\n",
    "                                        value=[[\"Ar\"], [\"Dr\"]],\n",
    "                                        #rows=10,\n",
    "                                        description='Noise Composition'\n",
    "                                    )"
   ]
  },
  {
   "cell_type": "code",
   "execution_count": null,
   "metadata": {},
   "outputs": [],
   "source": [
    "filepath = \"shareable_noise_results.csv\"\n",
    "results = pd.read_csv(filepath)"
   ]
  },
  {
   "cell_type": "code",
   "execution_count": null,
   "metadata": {},
   "outputs": [],
   "source": [
    "interact(plot_noise_effect, \n",
    "         plot_minmax=True, \n",
    "         noise_compositions=noise_compositions,\n",
    "         metric = [\"f1_weighted\", \"f1_macro\", \"accuracy\", \"recall\", \"precision\"],\n",
    "  #      savepath = \"\",\n",
    "         task=results.Task.unique())\n",
    "None"
   ]
  }
 ],
 "metadata": {
  "kernelspec": {
   "display_name": "Keras",
   "language": "python",
   "name": "keras"
  },
  "language_info": {
   "codemirror_mode": {
    "name": "ipython",
    "version": 3
   },
   "file_extension": ".py",
   "mimetype": "text/x-python",
   "name": "python",
   "nbconvert_exporter": "python",
   "pygments_lexer": "ipython3",
   "version": "3.8.5"
  }
 },
 "nbformat": 4,
 "nbformat_minor": 4
}
