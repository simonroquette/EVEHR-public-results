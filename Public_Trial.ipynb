{
 "cells": [
  {
   "cell_type": "code",
   "execution_count": null,
   "metadata": {
    "scrolled": true
   },
   "outputs": [],
   "source": [
    "def identity(x):\n",
    "    return x    \n",
    "def toarray(x):\n",
    "    return x.toarray()\n",
    "\n",
    "from utils_public import *"
   ]
  },
  {
   "cell_type": "markdown",
   "metadata": {},
   "source": [
    "# UMLS Ontology exploration"
   ]
  },
  {
   "cell_type": "code",
   "execution_count": null,
   "metadata": {},
   "outputs": [],
   "source": [
    "print(\"Relation types to select from, PAR/CHD and RN/RB relations are symmetric\")\n",
    "vc_rel"
   ]
  },
  {
   "cell_type": "code",
   "execution_count": null,
   "metadata": {
    "scrolled": false
   },
   "outputs": [],
   "source": [
    "interactive_graph = interactive(generate_graph, thesaurus = thesaurus_selector, rel = rel_selector)\n",
    "display(interactive_graph)"
   ]
  },
  {
   "cell_type": "markdown",
   "metadata": {},
   "source": [
    "## Text's Concept Extraction"
   ]
  },
  {
   "cell_type": "code",
   "execution_count": null,
   "metadata": {},
   "outputs": [],
   "source": [
    "\"\"\"\n",
    "texts = [\n",
    "    \"Femme enceinte de jumeaux, rythme cardiaque élevé\", \n",
    "    \"Ouverture du col de l'utérus 8cm, envoi en salle d'accouchement\", \n",
    "    \"DOULEUR PELVIENNE, Échographie rénale, Naissance\"\n",
    "]\n",
    "\"\"\"\n",
    "\n",
    "ids_pregnancy = ['C0005615', 'C4300516', 'C0042036', 'C2979983', 'C0023508', 'C0235956', 'C0235956', 'C0235956', 'C0235956', 'C0235956', 'C0018670', 'C0013862', 'C0005615', 'C0018941', 'C0014772', 'C0518015', 'C0018935', 'C0524587', 'C0221278', 'C0032181', 'C0200665', 'C0162401', 'C0200641', 'C0013862', 'C0005615', 'C0018941', 'C0041942', 'C0201975', 'C0337443', 'C0032821', 'C0202202', 'C0201657', 'C3829558', 'C0229671', 'C0034869', 'C0018670', 'C0013862', 'C2745965', 'C0025102', 'C0005615', 'C0005615', 'C0005615', 'C2745965', 'C0030193', 'C0227791', 'C0030794', 'C0030193', 'C0427625', 'C0024779', 'C0020517', 'C0015967', 'C0027497', 'C0042963', 'C0030193', 'C0030193', 'C0030193', 'C0030193', 'C0175659', 'C0030193', 'C0020792', 'C0030247', 'C0000726', 'C0030193', 'C0030987', 'C0037816', 'C4300516', 'C0041618', 'C0041618', 'C0038842', 'C0871470', 'C0018810', 'C0523807', 'C0030193', 'C0005767', 'C0005767', 'C0201975', 'C0005767', 'C0005767', 'C0005767', 'C0041942', 'C0003873', 'C4042904', 'C0013227', 'C0000970', 'C0085297', 'C0001465', 'C0011900', 'C0087111', 'C0011900', 'C0221512', 'C0019993', 'C0152169', 'C0009555', 'C0041942', 'C0002771', 'C0029266', 'C0032961', 'C0019993', 'C0152169', 'C0009555', 'C0041942', 'C0002771', 'C0087111', 'C0025102', 'C2745965', 'C0005615', 'C0005615', 'C0005615', 'C2745965', 'C0030193', 'C0227791', 'C0030794', 'C0030193', 'C0427625', 'C0024779', 'C0020517', 'C0015967', 'C0027497', 'C0042963', 'C0030193', 'C0030193', 'C0030193', 'C0030193', 'C0175659', 'C0030193', 'C0020792', 'C0030247', 'C0000726', 'C0030193', 'C0030987', 'C0037816', 'C4300516', 'C0041618', 'C0041618', 'C0005823', 'C0018790', 'C0018810', 'C0523807', 'C0030193', 'C0005767', 'C0005767', 'C0201975', 'C0005767', 'C0005767', 'C0005767', 'C0041942', 'C4042904', 'C0013227', 'C0000970', 'C0085297', 'C0001465', 'C0087111', 'C0011900', 'C0221512', 'C0019993', 'C0152169', 'C0009555', 'C0041942', 'C0002771', 'C0011900', 'C0032961', 'C0019993', 'C0152169', 'C0009555', 'C0041942', 'C0002771', 'C0087111', 'C0029266', 'C0203408', 'C0152169', 'C0022646', 'C3263723', 'C0023869', 'C0700124', 'C0011334', 'C0011334', 'C0032961', 'C0002453', 'C0005682', 'C0030558', 'C0023869', 'C0700124', 'C0011334', 'C0026827', 'C0011334', 'C0441633', 'C0025086', 'C0041618', 'C0040405', 'C0441633', 'C0005615', 'C0018941', 'C0014772', 'C0518015', 'C0018935', 'C0524587', 'C0221278', 'C0032181', 'C0200665', 'C0162401', 'C0200641', 'C0013862', 'C0005615', 'C0018941', 'C0041942', 'C0201975', 'C0337443', 'C0032821', 'C0005367', 'C0005667', 'C0202202', 'C0201657', 'C3829558', 'C0229671', 'C0034869', 'C0018670', 'C0013862']\n",
    "tmp = mrconso_filtered[mrconso_filtered.CUI.isin(set(ids_pregnancy))]\n",
    "idx = tmp.groupby(['CUI'])['strlen'].transform(min) == tmp['strlen']\n",
    "cui2desc = tmp[idx].set_index(\"CUI\").STR.to_dict()\n",
    "\n",
    "for concept in ids_pregnancy:\n",
    "    print(cui2desc[concept])"
   ]
  },
  {
   "cell_type": "code",
   "execution_count": null,
   "metadata": {
    "scrolled": false
   },
   "outputs": [],
   "source": [
    "Age = 30\n",
    "Sexe =  1 # 1 == \"Masculin\" //  0 == \"Féminin\"\n",
    "\n",
    "texts = [\n",
    "    \"Le patient est atteint de fièvre et de migraine\", \n",
    "    \"Les antibiotiques ont commencé à faire effet sur l'infection mais pas de fortes douleurs\",\n",
    "    \"Pas de symptomes de grippe ni de tremblements\",\n",
    "    \"Diabète non insulino-dépendant\",\n",
    "    \"Diabète : non\"\n",
    "]\n",
    "\n",
    "df_texts = pd.DataFrame({\"TEXT\" : texts, \"TEXT_ID\" : range(1, len(texts)+1)})\n",
    "\n",
    "threshold = 0.8\n",
    "update_threshold(threshold)\n",
    "extracts_exploded = extract(df_texts, show=True)\n",
    "\n",
    "tmp = pd.DataFrame({\"cui\" :ids_pregnancy, \"TEXT_ID\":range(len(ids_pregnancy))})\n",
    "#print_prediction(tmp, Age, Sexe)\n",
    "print_prediction(extracts_exploded, Age, Sexe)\n",
    "\n",
    "extracts_exploded"
   ]
  },
  {
   "cell_type": "markdown",
   "metadata": {},
   "source": [
    "### Find CUI"
   ]
  },
  {
   "cell_type": "code",
   "execution_count": null,
   "metadata": {},
   "outputs": [],
   "source": [
    "infection : \"C3714514\"\n",
    "\n",
    "pain : \"C0006138\"\n",
    "    \n",
    "paracetamol: \"C0373527\", \"C0000970\"\n",
    "    \n",
    "antibiotiques: \"C0003232\""
   ]
  },
  {
   "cell_type": "code",
   "execution_count": null,
   "metadata": {},
   "outputs": [],
   "source": [
    "query = \"infection\"\n",
    "query_cui = None\n",
    "\n",
    "query = unidecode(query.lower())\n",
    "\n",
    "mrconso_show_cols = [\"CUI\", \"STR\", \"ISPREF\", \"SAB\"]\n",
    "\n",
    "result = mrconso[mrconso.search_str.str.contains(query)]\n",
    "if query_cui:\n",
    "    result = result[result.CUI.str.contains(query_cui)]\n",
    "result = result.sort_values(\"strlen\") \n",
    "\n",
    "result[mrconso_show_cols].style.set_properties(**{'text-align': 'center'})"
   ]
  },
  {
   "cell_type": "code",
   "execution_count": null,
   "metadata": {},
   "outputs": [],
   "source": [
    "g_plot.get_shortest_paths()"
   ]
  },
  {
   "cell_type": "code",
   "execution_count": null,
   "metadata": {},
   "outputs": [],
   "source": [
    "strmap = {\n",
    "    \"IVR\": \"Infection respiratoire\",\n",
    " \"SRAG\":\"Syndrome respiratoire aigu grave\"\n",
    "}\n",
    "def getordefault(x):\n",
    "    if x in strmap:\n",
    "        return strmap[x]\n",
    "    else:\n",
    "        return x"
   ]
  },
  {
   "cell_type": "code",
   "execution_count": null,
   "metadata": {},
   "outputs": [],
   "source": [
    "CUIs_neighborhood = [\"C5203670\", \"C0021400\", \"C0003232\"]\n",
    "distance = 2\n",
    "\n",
    "g_plot = prepare_for_plot(interactive_graph, \n",
    "                          distance=distance,\n",
    "                          CUIs_neighborhood = CUIs_neighborhood)\n",
    "\n",
    "cui_pairs = []\n",
    "for i, cui1 in enumerate(CUIs_neighborhood):\n",
    "    for j, cui2 in enumerate(CUIs_neighborhood):\n",
    "        if i > j:\n",
    "            cui_pairs.append((cui1, cui2))\n",
    "#shortest_path_cuis = [g_plot.vs[\"label\"] for i in shortest_path]\n",
    "\n",
    "#g_plot = g_plot.spanning_tree()\n",
    "\n",
    "layout = g_plot.layout_sugiyama()\n",
    "layout = g_plot.layout_lgl()\n",
    "\n",
    "shortest_path = g_plot.as_undirected().get_shortest_paths(\"C5203670\", \"C0021400\")[0]\n",
    "shortest_path_cuis = [g_plot.vs[\"name\"][i] for i in shortest_path]\n",
    "#g_plot.vs[\"label\"] = [name if i in shortest_path else \"\" for i, name in enumerate(g_plot.vs[\"label\"])]\n",
    "\n",
    "plot(g_plot,\n",
    "     \"graph_public_grippe.pdf\",\n",
    "     layout=layout,\n",
    "    vertex_color=[\"green\" if vertex in set(CUIs_neighborhood) \n",
    "                  else \"cyan\" if vertex in shortest_path_cuis else \"red\" \n",
    "                  for vertex in g_plot.vs[\"name\"]],\n",
    "    margin=50)"
   ]
  },
  {
   "cell_type": "markdown",
   "metadata": {},
   "source": [
    "## Effect of Incorrect Extraction on Downstream Tasks"
   ]
  },
  {
   "cell_type": "code",
   "execution_count": null,
   "metadata": {},
   "outputs": [],
   "source": [
    "interact(plot_noise_effect, \n",
    "         plot_minmax=True, \n",
    "         noise_compositions=noise_compositions,\n",
    "         metric = [\"f1_weighted\", \"f1_macro\", \"accuracy\", \"recall\", \"precision\"],\n",
    "  #      savepath = \"\",\n",
    "         task=results.Task.unique())\n",
    "None"
   ]
  }
 ],
 "metadata": {
  "kernelspec": {
   "display_name": "Python 3",
   "language": "python",
   "name": "python3"
  },
  "language_info": {
   "codemirror_mode": {
    "name": "ipython",
    "version": 3
   },
   "file_extension": ".py",
   "mimetype": "text/x-python",
   "name": "python",
   "nbconvert_exporter": "python",
   "pygments_lexer": "ipython3",
   "version": "3.7.8"
  }
 },
 "nbformat": 4,
 "nbformat_minor": 4
}
